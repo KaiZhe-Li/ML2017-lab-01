{
 "cells": [
  {
   "cell_type": "code",
   "execution_count": 5,
   "metadata": {},
   "outputs": [],
   "source": [
    "from numpy import *\n",
    "import matplotlib.pyplot as plt\n",
    "import math\n",
    "from sklearn.datasets import load_svmlight_file\n",
    "import numpy as np\n",
    "from sklearn.cross_validation import train_test_split\n",
    "\n",
    "t_X,t_y=load_svmlight_file('australian_scale') #读取数据\n",
    "X_train,X_test, y_train, y_test =train_test_split(t_X,t_y,test_size=0.2, random_state=1)#分割数据"
   ]
  },
  {
   "cell_type": "code",
   "execution_count": 6,
   "metadata": {
    "collapsed": true
   },
   "outputs": [],
   "source": [
    "def fit( x, y, c=1, lr=0.01, batch_size=128,epoch=1000):\n",
    "    batch_size = min(batch_size, len(y))\n",
    "    w = np.zeros(x.shape[1])\n",
    "    b = 0.\n",
    "    for _ in range(epoch):\n",
    "        w *= 1 - lr\n",
    "        # 随机选取 batch_size 个样本\n",
    "        batch = np.random.choice(x.shape[0], batch_size)\n",
    "        x_batch, y_batch = x[batch], y[batch]\n",
    "        err = 1 - y_batch * predict(x_batch,w,b, True)\n",
    "        if np.max(err) <= 0:\n",
    "            continue\n",
    "        mask = err > 0\n",
    "        delta = lr * c * y_batch[mask]\n",
    "        w += np.mean(delta[..., None].transpose()* x_batch[mask], axis=0)\n",
    "        b += np.mean(delta)\n",
    "    return w,b\n"
   ]
  },
  {
   "cell_type": "code",
   "execution_count": 7,
   "metadata": {},
   "outputs": [],
   "source": [
    "def predict( x,w,b, raw=False):\n",
    "    y_pred = x.dot(w) + b\n",
    "    if raw:\n",
    "        return y_pred\n",
    "    return np.sign(y_pred).astype(np.float32)"
   ]
  },
  {
   "cell_type": "code",
   "execution_count": 8,
   "metadata": {},
   "outputs": [
    {
     "name": "stdout",
     "output_type": "stream",
     "text": [
      "准确率： 89.8551 %\n"
     ]
    }
   ],
   "source": [
    "w,b=fit(X_train,y_train)\n",
    "print(\"准确率：{:8.6} %\".format((predict(X_test,w,b) == y_test).mean() * 100))"
   ]
  }
 ],
 "metadata": {
  "kernelspec": {
   "display_name": "Python 3",
   "language": "python",
   "name": "python3"
  },
  "language_info": {
   "codemirror_mode": {
    "name": "ipython",
    "version": 3
   },
   "file_extension": ".py",
   "mimetype": "text/x-python",
   "name": "python",
   "nbconvert_exporter": "python",
   "pygments_lexer": "ipython3",
   "version": "3.6.1"
  }
 },
 "nbformat": 4,
 "nbformat_minor": 2
}
